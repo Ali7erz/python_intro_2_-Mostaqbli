{
  "cells": [
    {
      "cell_type": "markdown",
      "metadata": {
        "id": "jlh0Kxt3lEOr"
      },
      "source": [
        "# اليوم الثاني - مقدمة في البرمجة باستخدام بايثون\n",
        "# Python Session - 2nd Day [Mostaqbli]"
      ]
    },
    {
      "cell_type": "markdown",
      "metadata": {
        "id": "MOx_gGAXlEOt"
      },
      "source": [
        "## 1. Naming Variables in Python (تسمية المتغيرات في بايثون)\n",
        "- In Python, you can name variables almost anything, but there are some rules and best practices.\n",
        "- بايثون تسمح لك بتسمية المتغيرات بمعظم الأسماء، لكن هناك بعض القواعد والممارسات الجيدة."
      ]
    },
    {
      "cell_type": "markdown",
      "metadata": {
        "id": "tRoYi1Z-lEOu"
      },
      "source": [
        "#### Rules (القواعد):\n",
        "1. الأسماء يمكن أن تحتوي على حروف وأرقام وشرطة سفلية (_) لكن لا يمكن أن تبدأ برقم.\n",
        "2. الأسماء يجب ألا تكون كلمات محجوزة في بايثون."
      ]
    },
    {
      "cell_type": "markdown",
      "source": [
        "## 2. Common Error Types (أنواع الأخطاء الشائعة)\n",
        "\n",
        "\n",
        "تحتوي بايثون على عدة أنواع من الأخطاءالشائعة\n",
        "\n",
        "> 1. خطأ في القواعد البرمجية (SyntaxError)\n",
        "\n"
      ],
      "metadata": {
        "id": "6xrYNnKilXS2"
      }
    },
    {
      "cell_type": "code",
      "source": [
        "# مثال:\n",
        "print(\"Hello world\""
      ],
      "metadata": {
        "id": "tuUMzeBcmKns"
      },
      "execution_count": null,
      "outputs": []
    },
    {
      "cell_type": "markdown",
      "source": [
        "> 2. الأخطاء المنطقية (Logical Errors)"
      ],
      "metadata": {
        "id": "SdyUiQUQmU1m"
      }
    },
    {
      "cell_type": "code",
      "source": [
        "# برنامج لحساب طول محيط المستطيل\n",
        "\n",
        "# القيم المدخلة للطول والعرض\n",
        "الطول = 10\n",
        "العرض = 5\n",
        "\n",
        "# حساب محيط المستطيل\n",
        "# الخطأ المنطقي: استخدام الضرب بدلاً من الجمع للطول والعرض\n",
        "محيط = 2 * الطول * العرض  # الصحيح يجب أن يكون محيط = 2 * (الطول + العرض)\n",
        "\n",
        "print(\"طول محيط المستطيل هو:\", محيط)\n",
        "\n"
      ],
      "metadata": {
        "colab": {
          "base_uri": "https://localhost:8080/"
        },
        "id": "RXLnWFJ8m00M",
        "outputId": "0c118d30-c689-4d88-bc55-c197c56f408b"
      },
      "execution_count": 7,
      "outputs": [
        {
          "output_type": "stream",
          "name": "stdout",
          "text": [
            "طول محيط المستطيل هو: 100\n"
          ]
        }
      ]
    },
    {
      "cell_type": "markdown",
      "metadata": {
        "id": "Ha4Dfy6ylEOu"
      },
      "source": [
        "## 3. أخذ المدخلات من المستخدم (Taking Input from the User)\n",
        "\n",
        "\n",
        "> :في بايثون، يمكنك استخدام الدالة  <br> <span style=\"color: Green;\">input()</span> <br> لأخذ المدخلات من المستخدم. تقوم هذه الدالة بقراءة سطر من المدخل (عادةً من لوحة المفاتيح) وتعيده كـ\"نص\" ـ.\n",
        "\n"
      ]
    },
    {
      "cell_type": "code",
      "execution_count": null,
      "metadata": {
        "id": "HLxin_WMlEOv",
        "outputId": "c24f9bcf-0e08-42dc-a750-4de7bc239bb6"
      },
      "outputs": [
        {
          "name": "stdout",
          "output_type": "stream",
          "text": [
            "مرحبًا، \n"
          ]
        }
      ],
      "source": [
        "# طلب اسم المستخدم\n",
        "user_name = input(\"أدخل اسمك: \")\n",
        "\n",
        "print(\"مرحبًا، \" + user_name)"
      ]
    },
    {
      "cell_type": "markdown",
      "source": [
        "## 4. Strings and Arithmetic Operations (النصوص والعمليات الحسابية)"
      ],
      "metadata": {
        "id": "tWz1Kb7GparW"
      }
    },
    {
      "cell_type": "markdown",
      "metadata": {
        "id": "sy5zCPDLlEOw"
      },
      "source": [
        "### Arithmetic Operations (العمليات الحسابية):\n",
        "- Python supports various arithmetic operations like addition (+), subtraction (-), multiplication (*), and division (/).\n",
        "- تدعم بايثون عمليات حسابية متنوعة مثل الجمع (+)، والطرح (-)، والضرب (*)، والقسمة (/).\n",
        "\n",
        "```python\n",
        "a = 10\n",
        "b = 5\n",
        "sum = a + b\n",
        "difference = a - b\n",
        "product = a * b\n",
        "quotient = a / b\n",
        "print(\"Sum:\", sum, \"Difference:\", difference, \"Product:\", product, \"Quotient:\", quotient)\n",
        "```"
      ]
    },
    {
      "cell_type": "code",
      "source": [],
      "metadata": {
        "id": "H16luR4Mpd8L"
      },
      "execution_count": null,
      "outputs": []
    },
    {
      "cell_type": "markdown",
      "metadata": {
        "id": "lhkh2HeGlEOw"
      },
      "source": [
        "\n",
        "### Strings (النصوص):\n",
        "Strings in Python are used to handle textual data.\n",
        "\n",
        "```python\n",
        "greeting = \"Hello\"\n",
        "name = \"World\"\n",
        "message = greeting + \" \" + name\n",
        "print(message)\n",
        "```"
      ]
    },
    {
      "cell_type": "markdown",
      "metadata": {
        "id": "7k_2gEVvlEOw"
      },
      "source": [
        "\n",
        "### Exercise (تمرين): 1\n",
        "> Create a program that asks the user for two numbers and prints their sum, difference, product, and quotient. <br>\n",
        "> أنشئ برنامجًا يطلب من المستخدم إدخال رقمين ويطبع ناتج الجمع والطرح والضرب والقسم."
      ]
    },
    {
      "cell_type": "code",
      "source": [
        "# input()  أخذ المدخلات: استخدم\n",
        "# float() للحصول على مدخلات المستخدم و لتحويلها إلى رقم.\n",
        "# print() طباعة النتائج: استخدم  لعرض النتائج. تأكد من تضمين رسالة وصفية مع كل نتيجة.\n",
        "number1 = float(input(\"أدخل الرقم الأول: \"))\n",
        "# product = number1 * number1\n",
        "# print(\"ناتج الضرب:\", product)"
      ],
      "metadata": {
        "colab": {
          "base_uri": "https://localhost:8080/"
        },
        "id": "LgSNJUbjoJaY",
        "outputId": "90399b3b-2327-4517-d02a-a33232f13112"
      },
      "execution_count": 11,
      "outputs": [
        {
          "name": "stdout",
          "output_type": "stream",
          "text": [
            "أدخل الرقم الأول: 1\n"
          ]
        }
      ]
    },
    {
      "cell_type": "markdown",
      "source": [
        "## 3. Conditional Statements in Python (العبارات الشرطية في بايثون)\n"
      ],
      "metadata": {
        "id": "te1_DmLHpMtT"
      }
    },
    {
      "cell_type": "markdown",
      "source": [
        "Conditional statements allow you to execute certain pieces of code based on conditions.\n",
        "تسمح لك العبارات الشرطية بتنفيذ أجزاء معينة من الكود بناءً على شروط معينة.\n",
        "\n",
        "### Example (مثال):"
      ],
      "metadata": {
        "id": "24mbX5JppsNO"
      }
    },
    {
      "cell_type": "code",
      "source": [
        "number = int(input(\"Enter a number: \"))\n",
        "\n",
        "if number >:\n",
        "    print(\"The number is positive\")\n",
        "else:\n",
        "    print(\"The number is negative\")\n",
        "\n",
        "\n",
        "# كيف بنتعامل لو كان في حالة ثالثة\n",
        "#مثلا الصفر ؟"
      ],
      "metadata": {
        "colab": {
          "base_uri": "https://localhost:8080/"
        },
        "id": "Hr_ln5bUpst1",
        "outputId": "fb230a89-f289-4bb1-841c-1d79cb90772c"
      },
      "execution_count": 15,
      "outputs": [
        {
          "output_type": "stream",
          "name": "stdout",
          "text": [
            "Enter a number: 3\n",
            "The number is positive\n"
          ]
        }
      ]
    },
    {
      "cell_type": "markdown",
      "source": [
        "### Exercise (تمرين):\n",
        "Create a simple calculator that asks the user to enter two numbers and an operation (add, subtract, multiply, divide) and then performs that operation. <br>\n",
        "أنشئ آلة حاسبة بسيطة تطلب من المستخدم إدخال رقمين وعملية (جمع، طرح، ضرب، قسمة) ومن ثم تقوم بالعملية المطلوبة."
      ],
      "metadata": {
        "id": "vghsPffSqIoM"
      }
    },
    {
      "cell_type": "code",
      "source": [
        "# الخطوة 1: اطلب من المستخدم إدخال الرقم الأول\n",
        "# الخطوة 2: اطلب من المستخدم إدخال الرقم الثاني\n",
        "# الخطوة 3: اطلب من المستخدم تحديد العملية الحسابية +/-*؟\n",
        "# مثلا: \"أدخل نوع العملية (+، -، *، /): \"ـ\n",
        "# الخطوة 4: تنفيذ العملية الحسابية المطلوبة وطباعة النتيجة\n"
      ],
      "metadata": {
        "id": "QWb5inycqJEO"
      },
      "execution_count": 16,
      "outputs": []
    },
    {
      "cell_type": "code",
      "source": [
        "\n",
        "https://forms.gle/YB1bHeEkQDubqufL8"
      ],
      "metadata": {
        "id": "la3qd15RrJHU"
      },
      "execution_count": null,
      "outputs": []
    }
  ],
  "metadata": {
    "kernelspec": {
      "display_name": "ai_env",
      "language": "python",
      "name": "python3"
    },
    "language_info": {
      "codemirror_mode": {
        "name": "ipython",
        "version": 3
      },
      "file_extension": ".py",
      "mimetype": "text/x-python",
      "name": "python",
      "nbconvert_exporter": "python",
      "pygments_lexer": "ipython3",
      "version": "3.10.8"
    },
    "colab": {
      "provenance": []
    }
  },
  "nbformat": 4,
  "nbformat_minor": 0
}